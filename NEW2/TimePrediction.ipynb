{
 "cells": [
  {
   "cell_type": "code",
   "execution_count": 1,
   "id": "78617230-732d-4c9f-86c7-111b30b2cf1e",
   "metadata": {},
   "outputs": [
    {
     "name": "stderr",
     "output_type": "stream",
     "text": [
      "C:\\Users\\hp\\AppData\\Local\\Temp\\ipykernel_10916\\2162656668.py:1: DeprecationWarning: \n",
      "Pyarrow will become a required dependency of pandas in the next major release of pandas (pandas 3.0),\n",
      "(to allow more performant data types, such as the Arrow string type, and better interoperability with other libraries)\n",
      "but was not found to be installed on your system.\n",
      "If this would cause problems for you,\n",
      "please provide us feedback at https://github.com/pandas-dev/pandas/issues/54466\n",
      "        \n",
      "  import pandas as pd\n"
     ]
    }
   ],
   "source": [
    "import pandas as pd\n",
    "import numpy as np"
   ]
  },
  {
   "cell_type": "code",
   "execution_count": 2,
   "id": "fe6074a7-d976-4eee-ac2a-75b869794882",
   "metadata": {},
   "outputs": [
    {
     "data": {
      "text/html": [
       "<div>\n",
       "<style scoped>\n",
       "    .dataframe tbody tr th:only-of-type {\n",
       "        vertical-align: middle;\n",
       "    }\n",
       "\n",
       "    .dataframe tbody tr th {\n",
       "        vertical-align: top;\n",
       "    }\n",
       "\n",
       "    .dataframe thead th {\n",
       "        text-align: right;\n",
       "    }\n",
       "</style>\n",
       "<table border=\"1\" class=\"dataframe\">\n",
       "  <thead>\n",
       "    <tr style=\"text-align: right;\">\n",
       "      <th></th>\n",
       "      <th>Month</th>\n",
       "      <th>RAKE TO</th>\n",
       "      <th>COMMODITY</th>\n",
       "      <th>IMWB READING</th>\n",
       "    </tr>\n",
       "  </thead>\n",
       "  <tbody>\n",
       "    <tr>\n",
       "      <th>0</th>\n",
       "      <td>5</td>\n",
       "      <td>TSL,JSR</td>\n",
       "      <td>COAL NEWZEALAND</td>\n",
       "      <td>3373.54</td>\n",
       "    </tr>\n",
       "    <tr>\n",
       "      <th>1</th>\n",
       "      <td>5</td>\n",
       "      <td>TSL,JSR</td>\n",
       "      <td>COAL SS IPC</td>\n",
       "      <td>3468.67</td>\n",
       "    </tr>\n",
       "    <tr>\n",
       "      <th>2</th>\n",
       "      <td>5</td>\n",
       "      <td>TSL,JSR</td>\n",
       "      <td>COAL SS IPC</td>\n",
       "      <td>3341.74</td>\n",
       "    </tr>\n",
       "    <tr>\n",
       "      <th>3</th>\n",
       "      <td>5</td>\n",
       "      <td>TSL,JSR</td>\n",
       "      <td>COAL SS IPC/NEWZEALAND/OAKY NORTH</td>\n",
       "      <td>3364.20</td>\n",
       "    </tr>\n",
       "    <tr>\n",
       "      <th>4</th>\n",
       "      <td>5</td>\n",
       "      <td>HALDIA</td>\n",
       "      <td>COAL-OAKY NORTH</td>\n",
       "      <td>3391.11</td>\n",
       "    </tr>\n",
       "  </tbody>\n",
       "</table>\n",
       "</div>"
      ],
      "text/plain": [
       "   Month  RAKE TO                          COMMODITY  IMWB READING\n",
       "0      5  TSL,JSR                    COAL NEWZEALAND       3373.54\n",
       "1      5  TSL,JSR                        COAL SS IPC       3468.67\n",
       "2      5  TSL,JSR                        COAL SS IPC       3341.74\n",
       "3      5  TSL,JSR  COAL SS IPC/NEWZEALAND/OAKY NORTH       3364.20\n",
       "4      5   HALDIA                    COAL-OAKY NORTH       3391.11"
      ]
     },
     "execution_count": 2,
     "metadata": {},
     "output_type": "execute_result"
    }
   ],
   "source": [
    "df1=pd.read_csv('Prediction1.csv')\n",
    "df1.head()"
   ]
  },
  {
   "cell_type": "code",
   "execution_count": 3,
   "id": "b6547694-d1fe-4d68-a47d-b8c3043ef9c5",
   "metadata": {},
   "outputs": [
    {
     "data": {
      "text/plain": [
       "1515"
      ]
     },
     "execution_count": 3,
     "metadata": {},
     "output_type": "execute_result"
    }
   ],
   "source": [
    "total_rows = df1.shape[0]\n",
    "total_rows"
   ]
  },
  {
   "cell_type": "code",
   "execution_count": 4,
   "id": "794ea5fe-4bba-4f41-ba8c-4c28f6ad033d",
   "metadata": {},
   "outputs": [
    {
     "name": "stdout",
     "output_type": "stream",
     "text": [
      "Month           0\n",
      "RAKE TO         0\n",
      "COMMODITY       1\n",
      "IMWB READING    1\n",
      "dtype: int64\n"
     ]
    }
   ],
   "source": [
    "missing_values = df1.isna().sum()\n",
    "print(missing_values)"
   ]
  },
  {
   "cell_type": "code",
   "execution_count": 5,
   "id": "13fa7123-7e69-48b7-a85c-e148389bf157",
   "metadata": {},
   "outputs": [
    {
     "data": {
      "text/html": [
       "<div>\n",
       "<style scoped>\n",
       "    .dataframe tbody tr th:only-of-type {\n",
       "        vertical-align: middle;\n",
       "    }\n",
       "\n",
       "    .dataframe tbody tr th {\n",
       "        vertical-align: top;\n",
       "    }\n",
       "\n",
       "    .dataframe thead th {\n",
       "        text-align: right;\n",
       "    }\n",
       "</style>\n",
       "<table border=\"1\" class=\"dataframe\">\n",
       "  <thead>\n",
       "    <tr style=\"text-align: right;\">\n",
       "      <th></th>\n",
       "      <th>Month</th>\n",
       "      <th>RAKE TO</th>\n",
       "      <th>COMMODITY</th>\n",
       "      <th>IMWB READING</th>\n",
       "      <th>RAKE TO NUM</th>\n",
       "      <th>COMMODITY TO NUM</th>\n",
       "    </tr>\n",
       "  </thead>\n",
       "  <tbody>\n",
       "    <tr>\n",
       "      <th>0</th>\n",
       "      <td>5</td>\n",
       "      <td>TSL,JSR</td>\n",
       "      <td>COAL NEWZEALAND</td>\n",
       "      <td>3373.54</td>\n",
       "      <td>41</td>\n",
       "      <td>43</td>\n",
       "    </tr>\n",
       "    <tr>\n",
       "      <th>1</th>\n",
       "      <td>5</td>\n",
       "      <td>TSL,JSR</td>\n",
       "      <td>COAL SS IPC</td>\n",
       "      <td>3468.67</td>\n",
       "      <td>41</td>\n",
       "      <td>45</td>\n",
       "    </tr>\n",
       "    <tr>\n",
       "      <th>2</th>\n",
       "      <td>5</td>\n",
       "      <td>TSL,JSR</td>\n",
       "      <td>COAL SS IPC</td>\n",
       "      <td>3341.74</td>\n",
       "      <td>41</td>\n",
       "      <td>45</td>\n",
       "    </tr>\n",
       "    <tr>\n",
       "      <th>3</th>\n",
       "      <td>5</td>\n",
       "      <td>TSL,JSR</td>\n",
       "      <td>COAL SS IPC/NEWZEALAND/OAKY NORTH</td>\n",
       "      <td>3364.20</td>\n",
       "      <td>41</td>\n",
       "      <td>46</td>\n",
       "    </tr>\n",
       "    <tr>\n",
       "      <th>4</th>\n",
       "      <td>5</td>\n",
       "      <td>HALDIA</td>\n",
       "      <td>COAL-OAKY NORTH</td>\n",
       "      <td>3391.11</td>\n",
       "      <td>12</td>\n",
       "      <td>47</td>\n",
       "    </tr>\n",
       "    <tr>\n",
       "      <th>...</th>\n",
       "      <td>...</td>\n",
       "      <td>...</td>\n",
       "      <td>...</td>\n",
       "      <td>...</td>\n",
       "      <td>...</td>\n",
       "      <td>...</td>\n",
       "    </tr>\n",
       "    <tr>\n",
       "      <th>1510</th>\n",
       "      <td>5</td>\n",
       "      <td>Adani Enterprises</td>\n",
       "      <td>Steam Coal</td>\n",
       "      <td>3660.24</td>\n",
       "      <td>3</td>\n",
       "      <td>250</td>\n",
       "    </tr>\n",
       "    <tr>\n",
       "      <th>1511</th>\n",
       "      <td>5</td>\n",
       "      <td>VISA RESOURCES</td>\n",
       "      <td>NON COKING</td>\n",
       "      <td>3212.83</td>\n",
       "      <td>51</td>\n",
       "      <td>192</td>\n",
       "    </tr>\n",
       "    <tr>\n",
       "      <th>1512</th>\n",
       "      <td>5</td>\n",
       "      <td>Adhunik Alloys</td>\n",
       "      <td>NON COKING</td>\n",
       "      <td>3458.44</td>\n",
       "      <td>4</td>\n",
       "      <td>192</td>\n",
       "    </tr>\n",
       "    <tr>\n",
       "      <th>1513</th>\n",
       "      <td>5</td>\n",
       "      <td>TSL,JSR</td>\n",
       "      <td>JELLINBAH PCI/CURRAGH HCC</td>\n",
       "      <td>3408.65</td>\n",
       "      <td>41</td>\n",
       "      <td>157</td>\n",
       "    </tr>\n",
       "    <tr>\n",
       "      <th>1514</th>\n",
       "      <td>5</td>\n",
       "      <td>Adani Enterprises</td>\n",
       "      <td>Steam Coal</td>\n",
       "      <td>3662.81</td>\n",
       "      <td>3</td>\n",
       "      <td>250</td>\n",
       "    </tr>\n",
       "  </tbody>\n",
       "</table>\n",
       "<p>1515 rows × 6 columns</p>\n",
       "</div>"
      ],
      "text/plain": [
       "      Month            RAKE TO                          COMMODITY  \\\n",
       "0         5            TSL,JSR                    COAL NEWZEALAND   \n",
       "1         5            TSL,JSR                        COAL SS IPC   \n",
       "2         5            TSL,JSR                        COAL SS IPC   \n",
       "3         5            TSL,JSR  COAL SS IPC/NEWZEALAND/OAKY NORTH   \n",
       "4         5             HALDIA                    COAL-OAKY NORTH   \n",
       "...     ...                ...                                ...   \n",
       "1510      5  Adani Enterprises                         Steam Coal   \n",
       "1511      5     VISA RESOURCES                         NON COKING   \n",
       "1512      5     Adhunik Alloys                         NON COKING   \n",
       "1513      5            TSL,JSR          JELLINBAH PCI/CURRAGH HCC   \n",
       "1514      5  Adani Enterprises                         Steam Coal   \n",
       "\n",
       "      IMWB READING  RAKE TO NUM  COMMODITY TO NUM  \n",
       "0          3373.54           41                43  \n",
       "1          3468.67           41                45  \n",
       "2          3341.74           41                45  \n",
       "3          3364.20           41                46  \n",
       "4          3391.11           12                47  \n",
       "...            ...          ...               ...  \n",
       "1510       3660.24            3               250  \n",
       "1511       3212.83           51               192  \n",
       "1512       3458.44            4               192  \n",
       "1513       3408.65           41               157  \n",
       "1514       3662.81            3               250  \n",
       "\n",
       "[1515 rows x 6 columns]"
      ]
     },
     "execution_count": 5,
     "metadata": {},
     "output_type": "execute_result"
    }
   ],
   "source": [
    "from sklearn.preprocessing import LabelEncoder\n",
    "label_encoder = LabelEncoder()\n",
    "df1['RAKE TO NUM'] = label_encoder.fit_transform(df1['RAKE TO'])\n",
    "df1['COMMODITY TO NUM'] = label_encoder.fit_transform(df1['COMMODITY'])\n",
    "df1"
   ]
  },
  {
   "cell_type": "code",
   "execution_count": 6,
   "id": "23eaf7e0-771d-4d1f-b1c0-8411c887aa58",
   "metadata": {},
   "outputs": [],
   "source": [
    "df1= df1.drop('RAKE TO', axis=1) \n",
    "df1= df1.drop('COMMODITY', axis=1) \n"
   ]
  },
  {
   "cell_type": "code",
   "execution_count": 7,
   "id": "d1cae918-ff39-4349-b01f-3c8f78ab030f",
   "metadata": {},
   "outputs": [
    {
     "ename": "KeyError",
     "evalue": "'Load per wagon'",
     "output_type": "error",
     "traceback": [
      "\u001b[1;31m---------------------------------------------------------------------------\u001b[0m",
      "\u001b[1;31mKeyError\u001b[0m                                  Traceback (most recent call last)",
      "File \u001b[1;32m~\\AppData\\Local\\Programs\\Python\\Python312\\Lib\\site-packages\\pandas\\core\\indexes\\base.py:3802\u001b[0m, in \u001b[0;36mIndex.get_loc\u001b[1;34m(self, key)\u001b[0m\n\u001b[0;32m   3801\u001b[0m \u001b[38;5;28;01mtry\u001b[39;00m:\n\u001b[1;32m-> 3802\u001b[0m     \u001b[38;5;28;01mreturn\u001b[39;00m \u001b[38;5;28;43mself\u001b[39;49m\u001b[38;5;241;43m.\u001b[39;49m\u001b[43m_engine\u001b[49m\u001b[38;5;241;43m.\u001b[39;49m\u001b[43mget_loc\u001b[49m\u001b[43m(\u001b[49m\u001b[43mcasted_key\u001b[49m\u001b[43m)\u001b[49m\n\u001b[0;32m   3803\u001b[0m \u001b[38;5;28;01mexcept\u001b[39;00m \u001b[38;5;167;01mKeyError\u001b[39;00m \u001b[38;5;28;01mas\u001b[39;00m err:\n",
      "File \u001b[1;32mindex.pyx:153\u001b[0m, in \u001b[0;36mpandas._libs.index.IndexEngine.get_loc\u001b[1;34m()\u001b[0m\n",
      "File \u001b[1;32mindex.pyx:182\u001b[0m, in \u001b[0;36mpandas._libs.index.IndexEngine.get_loc\u001b[1;34m()\u001b[0m\n",
      "File \u001b[1;32mpandas\\\\_libs\\\\hashtable_class_helper.pxi:7081\u001b[0m, in \u001b[0;36mpandas._libs.hashtable.PyObjectHashTable.get_item\u001b[1;34m()\u001b[0m\n",
      "File \u001b[1;32mpandas\\\\_libs\\\\hashtable_class_helper.pxi:7089\u001b[0m, in \u001b[0;36mpandas._libs.hashtable.PyObjectHashTable.get_item\u001b[1;34m()\u001b[0m\n",
      "\u001b[1;31mKeyError\u001b[0m: 'Load per wagon'",
      "\nThe above exception was the direct cause of the following exception:\n",
      "\u001b[1;31mKeyError\u001b[0m                                  Traceback (most recent call last)",
      "Cell \u001b[1;32mIn[7], line 1\u001b[0m\n\u001b[1;32m----> 1\u001b[0m df1[\u001b[38;5;124m'\u001b[39m\u001b[38;5;124mLoad per wagon\u001b[39m\u001b[38;5;124m'\u001b[39m] \u001b[38;5;241m=\u001b[39m pd\u001b[38;5;241m.\u001b[39mto_numeric(\u001b[43mdf1\u001b[49m\u001b[43m[\u001b[49m\u001b[38;5;124;43m'\u001b[39;49m\u001b[38;5;124;43mLoad per wagon\u001b[39;49m\u001b[38;5;124;43m'\u001b[39;49m\u001b[43m]\u001b[49m, errors\u001b[38;5;241m=\u001b[39m\u001b[38;5;124m'\u001b[39m\u001b[38;5;124mcoerce\u001b[39m\u001b[38;5;124m'\u001b[39m)\n\u001b[0;32m      2\u001b[0m df1[\u001b[38;5;124m'\u001b[39m\u001b[38;5;124mACTUAL TIME TAKEN FOR LOADING\u001b[39m\u001b[38;5;124m'\u001b[39m] \u001b[38;5;241m=\u001b[39m pd\u001b[38;5;241m.\u001b[39mto_numeric(df1[\u001b[38;5;124m'\u001b[39m\u001b[38;5;124mACTUAL TIME TAKEN FOR LOADING\u001b[39m\u001b[38;5;124m'\u001b[39m], errors\u001b[38;5;241m=\u001b[39m\u001b[38;5;124m'\u001b[39m\u001b[38;5;124mcoerce\u001b[39m\u001b[38;5;124m'\u001b[39m)\n\u001b[0;32m      3\u001b[0m df1[\u001b[38;5;124m'\u001b[39m\u001b[38;5;124mDIESEL LOCO DECOUPLING DURATION\u001b[39m\u001b[38;5;124m'\u001b[39m] \u001b[38;5;241m=\u001b[39m pd\u001b[38;5;241m.\u001b[39mto_numeric(df1[\u001b[38;5;124m'\u001b[39m\u001b[38;5;124mDIESEL LOCO DECOUPLING DURATION\u001b[39m\u001b[38;5;124m'\u001b[39m], errors\u001b[38;5;241m=\u001b[39m\u001b[38;5;124m'\u001b[39m\u001b[38;5;124mcoerce\u001b[39m\u001b[38;5;124m'\u001b[39m)\n",
      "File \u001b[1;32m~\\AppData\\Local\\Programs\\Python\\Python312\\Lib\\site-packages\\pandas\\core\\frame.py:4090\u001b[0m, in \u001b[0;36mDataFrame.__getitem__\u001b[1;34m(self, key)\u001b[0m\n\u001b[0;32m   4088\u001b[0m \u001b[38;5;28;01mif\u001b[39;00m \u001b[38;5;28mself\u001b[39m\u001b[38;5;241m.\u001b[39mcolumns\u001b[38;5;241m.\u001b[39mnlevels \u001b[38;5;241m>\u001b[39m \u001b[38;5;241m1\u001b[39m:\n\u001b[0;32m   4089\u001b[0m     \u001b[38;5;28;01mreturn\u001b[39;00m \u001b[38;5;28mself\u001b[39m\u001b[38;5;241m.\u001b[39m_getitem_multilevel(key)\n\u001b[1;32m-> 4090\u001b[0m indexer \u001b[38;5;241m=\u001b[39m \u001b[38;5;28;43mself\u001b[39;49m\u001b[38;5;241;43m.\u001b[39;49m\u001b[43mcolumns\u001b[49m\u001b[38;5;241;43m.\u001b[39;49m\u001b[43mget_loc\u001b[49m\u001b[43m(\u001b[49m\u001b[43mkey\u001b[49m\u001b[43m)\u001b[49m\n\u001b[0;32m   4091\u001b[0m \u001b[38;5;28;01mif\u001b[39;00m is_integer(indexer):\n\u001b[0;32m   4092\u001b[0m     indexer \u001b[38;5;241m=\u001b[39m [indexer]\n",
      "File \u001b[1;32m~\\AppData\\Local\\Programs\\Python\\Python312\\Lib\\site-packages\\pandas\\core\\indexes\\base.py:3809\u001b[0m, in \u001b[0;36mIndex.get_loc\u001b[1;34m(self, key)\u001b[0m\n\u001b[0;32m   3804\u001b[0m     \u001b[38;5;28;01mif\u001b[39;00m \u001b[38;5;28misinstance\u001b[39m(casted_key, \u001b[38;5;28mslice\u001b[39m) \u001b[38;5;129;01mor\u001b[39;00m (\n\u001b[0;32m   3805\u001b[0m         \u001b[38;5;28misinstance\u001b[39m(casted_key, abc\u001b[38;5;241m.\u001b[39mIterable)\n\u001b[0;32m   3806\u001b[0m         \u001b[38;5;129;01mand\u001b[39;00m \u001b[38;5;28many\u001b[39m(\u001b[38;5;28misinstance\u001b[39m(x, \u001b[38;5;28mslice\u001b[39m) \u001b[38;5;28;01mfor\u001b[39;00m x \u001b[38;5;129;01min\u001b[39;00m casted_key)\n\u001b[0;32m   3807\u001b[0m     ):\n\u001b[0;32m   3808\u001b[0m         \u001b[38;5;28;01mraise\u001b[39;00m InvalidIndexError(key)\n\u001b[1;32m-> 3809\u001b[0m     \u001b[38;5;28;01mraise\u001b[39;00m \u001b[38;5;167;01mKeyError\u001b[39;00m(key) \u001b[38;5;28;01mfrom\u001b[39;00m \u001b[38;5;21;01merr\u001b[39;00m\n\u001b[0;32m   3810\u001b[0m \u001b[38;5;28;01mexcept\u001b[39;00m \u001b[38;5;167;01mTypeError\u001b[39;00m:\n\u001b[0;32m   3811\u001b[0m     \u001b[38;5;66;03m# If we have a listlike key, _check_indexing_error will raise\u001b[39;00m\n\u001b[0;32m   3812\u001b[0m     \u001b[38;5;66;03m#  InvalidIndexError. Otherwise we fall through and re-raise\u001b[39;00m\n\u001b[0;32m   3813\u001b[0m     \u001b[38;5;66;03m#  the TypeError.\u001b[39;00m\n\u001b[0;32m   3814\u001b[0m     \u001b[38;5;28mself\u001b[39m\u001b[38;5;241m.\u001b[39m_check_indexing_error(key)\n",
      "\u001b[1;31mKeyError\u001b[0m: 'Load per wagon'"
     ]
    }
   ],
   "source": [
    "df1['Load per wagon'] = pd.to_numeric(df1['Load per wagon'], errors='coerce')\n",
    "df1['ACTUAL TIME TAKEN FOR LOADING'] = pd.to_numeric(df1['ACTUAL TIME TAKEN FOR LOADING'], errors='coerce')\n",
    "df1['DIESEL LOCO DECOUPLING DURATION'] = pd.to_numeric(df1['DIESEL LOCO DECOUPLING DURATION'], errors='coerce')\n",
    "df1"
   ]
  },
  {
   "cell_type": "code",
   "execution_count": null,
   "id": "16a8cd7b-52d4-4173-8c58-dd3b825e2b5d",
   "metadata": {},
   "outputs": [],
   "source": [
    "X = df1.drop('IMWB READING', axis=1)\n",
    "\n",
    "Y=df1['IMWB READING']"
   ]
  },
  {
   "cell_type": "code",
   "execution_count": null,
   "id": "6176dc67-e9d7-4847-ae7c-245fefcee406",
   "metadata": {},
   "outputs": [],
   "source": [
    "nan_values = df1[df1.isna().any(axis=1)]\n",
    "nan_values"
   ]
  },
  {
   "cell_type": "code",
   "execution_count": null,
   "id": "57025db6-98be-4bea-98f8-d9788d1e9410",
   "metadata": {},
   "outputs": [],
   "source": [
    "from sklearn.model_selection import train_test_split\n",
    "from sklearn.linear_model import LinearRegression\n",
    "X_train, X_test, Y_train, Y_test = train_test_split(X, Y, test_size=0.2)\n",
    "model = LinearRegression()\n",
    "model.fit(X_train, Y_train)\n",
    "model.score(X_test,Y_test)"
   ]
  },
  {
   "cell_type": "code",
   "execution_count": null,
   "id": "31c3ef27-e6a2-4b2d-bb18-ca0f3d8d6e4a",
   "metadata": {},
   "outputs": [],
   "source": [
    "total_labels1 = df1['RAKE TO NUM'].nunique()\n",
    "\n",
    "print(\"Total number of RAKE TO label-encoded values:\", total_labels1)\n",
    "total_labels2 = df1['COMMODITY TO NUM'].nunique()\n",
    "\n",
    "print(\"Total number of COMMODITY label-encoded values:\", total_labels2)\n",
    "\n",
    "count_encoded_values1 = df1['RAKE TO NUM'].value_counts()\n",
    "\n",
    "print(count_encoded_values1)\n",
    "\n",
    "count_encoded_values2 = df1['COMMODITY TO NUM'].value_counts()\n",
    "\n",
    "print(count_encoded_values2)"
   ]
  }
 ],
 "metadata": {
  "kernelspec": {
   "display_name": "Python 3 (ipykernel)",
   "language": "python",
   "name": "python3"
  },
  "language_info": {
   "codemirror_mode": {
    "name": "ipython",
    "version": 3
   },
   "file_extension": ".py",
   "mimetype": "text/x-python",
   "name": "python",
   "nbconvert_exporter": "python",
   "pygments_lexer": "ipython3",
   "version": "3.12.1"
  }
 },
 "nbformat": 4,
 "nbformat_minor": 5
}
